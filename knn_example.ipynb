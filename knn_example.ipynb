{
 "cells": [
  {
   "cell_type": "markdown",
   "metadata": {},
   "source": [
    "Download the following dataset (from Kaggle) with 110.527 medical appointments and 14 associated variables (characteristics). Use it to create a model that can predict whether a patient will shop up for the appointment booked or not.\n",
    "(www.kaggle.com/joniarroba/noshowappointments)"
   ]
  },
  {
   "cell_type": "code",
   "execution_count": 11,
   "metadata": {},
   "outputs": [
    {
     "name": "stdout",
     "output_type": "stream",
     "text": [
      "Path to dataset files: /home/user/.cache/kagglehub/datasets/joniarroba/noshowappointments/versions/5\n",
      "           PatientId  AppointmentID Gender          ScheduledDay  \\\n",
      "110522  2.572134e+12        5651768      F  2016-05-03T09:15:35Z   \n",
      "110523  3.596266e+12        5650093      F  2016-05-03T07:27:33Z   \n",
      "110524  1.557663e+13        5630692      F  2016-04-27T16:03:52Z   \n",
      "110525  9.213493e+13        5630323      F  2016-04-27T15:09:23Z   \n",
      "110526  3.775115e+14        5629448      F  2016-04-27T13:30:56Z   \n",
      "\n",
      "              AppointmentDay  Age Neighbourhood  Scholarship  Hipertension  \\\n",
      "110522  2016-06-07T00:00:00Z   56   MARIA ORTIZ            0             0   \n",
      "110523  2016-06-07T00:00:00Z   51   MARIA ORTIZ            0             0   \n",
      "110524  2016-06-07T00:00:00Z   21   MARIA ORTIZ            0             0   \n",
      "110525  2016-06-07T00:00:00Z   38   MARIA ORTIZ            0             0   \n",
      "110526  2016-06-07T00:00:00Z   54   MARIA ORTIZ            0             0   \n",
      "\n",
      "        Diabetes  Alcoholism  Handcap  SMS_received No-show  \n",
      "110522         0           0        0             1      No  \n",
      "110523         0           0        0             1      No  \n",
      "110524         0           0        0             1      No  \n",
      "110525         0           0        0             1      No  \n",
      "110526         0           0        0             1      No  \n"
     ]
    }
   ],
   "source": [
    "import kagglehub\n",
    "import pandas as pd\n",
    "import numpy as np\n",
    "# Download latest version\n",
    "path = kagglehub.dataset_download(\"joniarroba/noshowappointments\")\n",
    "\n",
    "print(\"Path to dataset files:\", path)\n",
    "\n",
    "# Load the CSV file\n",
    "appointments = pd.read_csv(f\"{path}/KaggleV2-May-2016.csv\")\n",
    "# Display the first few rows of the dataset\n",
    "print(appointments.tail())"
   ]
  }
 ],
 "metadata": {
  "kernelspec": {
   "display_name": "Python 3",
   "language": "python",
   "name": "python3"
  },
  "language_info": {
   "codemirror_mode": {
    "name": "ipython",
    "version": 3
   },
   "file_extension": ".py",
   "mimetype": "text/x-python",
   "name": "python",
   "nbconvert_exporter": "python",
   "pygments_lexer": "ipython3",
   "version": "3.11.4"
  }
 },
 "nbformat": 4,
 "nbformat_minor": 2
}

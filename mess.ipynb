{
 "cells": [
  {
   "cell_type": "code",
   "execution_count": 1,
   "metadata": {},
   "outputs": [
    {
     "data": {
      "text/plain": [
       "array([[1, 2, 3],\n",
       "       [4, 5, 6],\n",
       "       [7, 8, 9]])"
      ]
     },
     "execution_count": 1,
     "metadata": {},
     "output_type": "execute_result"
    }
   ],
   "source": [
    "import numpy as np\n",
    "x = np.array([[1, 2, 3],\n",
    "              [4, 5, 6],\n",
    "              [7, 8, 9]])\n",
    "x"
   ]
  },
  {
   "cell_type": "code",
   "execution_count": 4,
   "metadata": {},
   "outputs": [
    {
     "data": {
      "text/plain": [
       "array([[1, 2],\n",
       "       [4, 5]])"
      ]
     },
     "execution_count": 4,
     "metadata": {},
     "output_type": "execute_result"
    }
   ],
   "source": [
    "x[:2, :2]"
   ]
  },
  {
   "cell_type": "code",
   "execution_count": 5,
   "metadata": {},
   "outputs": [
    {
     "data": {
      "text/plain": [
       "array([[9, 8, 7],\n",
       "       [6, 5, 4],\n",
       "       [3, 2, 1]])"
      ]
     },
     "execution_count": 5,
     "metadata": {},
     "output_type": "execute_result"
    }
   ],
   "source": [
    "x[::-1, ::-1]"
   ]
  },
  {
   "cell_type": "code",
   "execution_count": 11,
   "metadata": {},
   "outputs": [
    {
     "name": "stdout",
     "output_type": "stream",
     "text": [
      "R2 Score (accuracy): 1.00\n",
      "[ 1  6 11 16 21 26 31 36]\n",
      "[41 46 51 56 61 66 71 76]\n",
      "[46. 66.]\n"
     ]
    }
   ],
   "source": [
    "import numpy as np\n",
    "from sklearn.model_selection import train_test_split\n",
    "from sklearn.linear_model import LinearRegression\n",
    "from sklearn.metrics import r2_score\n",
    "\n",
    "X = np.arange(1, 40, 5).reshape(-1, 1)\n",
    "y = np.arange(41, 80, 5)\n",
    "\n",
    "X_train, X_test, y_train, y_test = train_test_split(X, y, test_size = 2, random_state = 42)\n",
    "\n",
    "model = LinearRegression()\n",
    "model.fit(X, y)\n",
    "\n",
    "y_pred = model.predict(X_test)\n",
    "\n",
    "r2 = r2_score(y_test, y_pred)\n",
    "print(f'R2 Score (accuracy): {r2:.2f}')\n",
    "\n",
    "print(x)\n",
    "print(y)\n",
    "print(y_pred)\n",
    "\n",
    "\n"
   ]
  },
  {
   "cell_type": "code",
   "execution_count": 17,
   "metadata": {},
   "outputs": [
    {
     "name": "stdout",
     "output_type": "stream",
     "text": [
      "[[12  5  2  4]\n",
      " [ 7  6  8  8]\n",
      " [ 1  6  7  7]]\n",
      "[[12  5  2]\n",
      " [ 7  6  8]]\n",
      "[[12  2]\n",
      " [ 7  8]\n",
      " [ 1  7]]\n",
      "[[ 7  7  6  1]\n",
      " [ 8  8  6  7]\n",
      " [ 4  2  5 12]]\n",
      "R2 Score (accuracy): -19.0094\n",
      "Predicted sales: 21.70\n"
     ]
    },
    {
     "name": "stderr",
     "output_type": "stream",
     "text": [
      "/home/linuxbrew/.linuxbrew/Cellar/python@3.11/3.11.4_1/lib/python3.11/site-packages/sklearn/utils/validation.py:2739: UserWarning: X does not have valid feature names, but LinearRegression was fitted with feature names\n",
      "  warnings.warn(\n"
     ]
    }
   ],
   "source": [
    "import numpy as np\n",
    "# Question A(i)\n",
    "x = np.array([[12, 5, 2, 4],\n",
    "              [7, 6, 8, 8],\n",
    "              [1, 6, 7, 7]])\n",
    "print(x)\n",
    "# -> [[12  5  2  4]\n",
    "#  [ 7  6  8  8]\n",
    "#  [ 1  6  7  7]]\n",
    "\n",
    "# Question A(ii)\n",
    "subarray = x[:2, :3]\n",
    "print(subarray)\n",
    "# -> [[12  5  2]\n",
    "#  [ 7  6  8]]\n",
    "\n",
    "# Question A(iii)\n",
    "subarray1 = x[:3, ::2]\n",
    "print(subarray1)\n",
    "# -> [[12  2]\n",
    "#  [ 7  8]\n",
    "#  [ 1  7]]\n",
    "\n",
    "# Question A(iv)\n",
    "subarray2 = x[::-1, ::-1]\n",
    "print(subarray2)\n",
    "# -> [[ 7  7  6  1]\n",
    "#  [ 8  8  6  7]\n",
    "#  [ 4  2  5 12]]\n",
    "\n",
    "\n",
    "# Question B(a)\n",
    "import numpy as np\n",
    "import pandas as pd\n",
    "from sklearn.model_selection import train_test_split\n",
    "from sklearn.linear_model import LinearRegression\n",
    "from sklearn.metrics import r2_score\n",
    "\n",
    "data = {\n",
    "    'TV': [230.1, 44.5, 17.2, 151.5, 180.8],\n",
    "    'Radio': [37.8, 39.3, 45.9, 41.3, 10.8],\n",
    "    'Newspaper': [69.2, 45.1, 69.3, 58.5, 58.4],\n",
    "    'Sales': [22.1, 10.4, 9.3, 18.5, 12.9]\n",
    "}\n",
    "df = pd.DataFrame(data)\n",
    "# Features and target variable\n",
    "X = df[['TV', 'Radio', 'Newspaper']]\n",
    "y = df['Sales']\n",
    "\n",
    "# Splitting the dataset into training and testing sets\n",
    "X_train, X_test, y_train, y_test = train_test_split(X, y, test_size = 2, random_state = 42)\n",
    "# Create and train the model\n",
    "model = LinearRegression()\n",
    "model.fit(X_train, y_train)\n",
    "\n",
    "# Predict on the test set\n",
    "y_pred = model.predict(X_test)\n",
    "\n",
    "# Calculate accuracy (R2 score)\n",
    "r2 = r2_score(y_test, y_pred)\n",
    "print(f'R2 Score (accuracy): {r2:.4f}')\n",
    "# -> R2 Score (accuracy): -19.0094\n",
    "\n",
    "# Question B(b)\n",
    "new_data = np.array([[165.5, 20.0, 35.4]])\n",
    "predicted_sales = model.predict(new_data)\n",
    "print(f\"Predicted sales: {predicted_sales[0]:.2f}\")\n",
    "# -> Predicted sales: 21.70"
   ]
  }
 ],
 "metadata": {
  "kernelspec": {
   "display_name": "Python 3",
   "language": "python",
   "name": "python3"
  },
  "language_info": {
   "codemirror_mode": {
    "name": "ipython",
    "version": 3
   },
   "file_extension": ".py",
   "mimetype": "text/x-python",
   "name": "python",
   "nbconvert_exporter": "python",
   "pygments_lexer": "ipython3",
   "version": "3.11.4"
  }
 },
 "nbformat": 4,
 "nbformat_minor": 2
}

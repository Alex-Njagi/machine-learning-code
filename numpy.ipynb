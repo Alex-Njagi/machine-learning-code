{
 "cells": [
  {
   "cell_type": "markdown",
   "metadata": {},
   "source": [
    "Data manipulation in Python is nearly synonymous with NumPy array manipulation. The numeric functionality of numpy is orchestrated by ndarray, a multi-dimensional array object that is the coredatacontainer for all of the numpy operations."
   ]
  },
  {
   "cell_type": "code",
   "execution_count": 1,
   "metadata": {},
   "outputs": [],
   "source": [
    "import numpy as np"
   ]
  },
  {
   "cell_type": "code",
   "execution_count": 107,
   "metadata": {},
   "outputs": [
    {
     "name": "stdout",
     "output_type": "stream",
     "text": [
      "Array shape: (5,)\n",
      "Array size: 5\n"
     ]
    }
   ],
   "source": [
    "# 1. CREATING ARRAYS\n",
    "# Arrays can be created in multiple ways in numpy. A single dimensional array can be created fromPythonlists using np.array() \n",
    "# method as shown below\n",
    "numbers = np.array([1, 2, 3, 4, 5])\n",
    "numbers\n",
    "\n",
    "# The shape attribute of the array object returns the size of each dimension in the form of (row, columns), while the size returns\n",
    "# the total size of the array:\n",
    "print(f\"Array shape: {numbers.shape}\")\n",
    "print(f\"Array size: {numbers.size}\")"
   ]
  },
  {
   "cell_type": "code",
   "execution_count": 136,
   "metadata": {},
   "outputs": [
    {
     "name": "stdout",
     "output_type": "stream",
     "text": [
      "[0 0 0 0 0 0 0 0 0 0]\n",
      " \n",
      "[[0. 0. 0. 0.]\n",
      " [0. 0. 0. 0.]\n",
      " [0. 0. 0. 0.]]\n",
      " \n",
      "[ 0  2  4  6  8 10 12 14 16 18]\n",
      " \n",
      "[[1. 0. 0.]\n",
      " [0. 1. 0.]\n",
      " [0. 0. 1.]]\n",
      " \n"
     ]
    }
   ],
   "source": [
    "# 2. CREATING ARRAYS FROM SCRATCH\n",
    "# For large arrays it is more efficient to create arrays from scratch using a bunch of special functionsbuiltinNumPy as shown in\n",
    "# the following examples:\n",
    "\n",
    "# A) np.zeros\n",
    "# + Creates a matrix of specified dimensions containing only zeroes\n",
    "print(np.zeros(10, dtype=int))\n",
    "print(\" \")\n",
    "# + Allows for creation of multi-dimensional array filled with 0s\n",
    "print(np.zeros((3, 4)))\n",
    "print(\" \")\n",
    "\n",
    "# B) np.arange\n",
    "# + Creates an array filled with a linear sequence: the starting number, the ending number, and the step size\n",
    "print(np.arange(0, 20, 2))\n",
    "print(\" \")\n",
    "\n",
    "# C) np.identity\n",
    "# + Creates an identity matrix of specified dimensions\n",
    "print(np.identity(3))\n",
    "print(\" \")"
   ]
  },
  {
   "cell_type": "code",
   "execution_count": 143,
   "metadata": {},
   "outputs": [
    {
     "name": "stdout",
     "output_type": "stream",
     "text": [
      "x1: [5 0 3 3 7 9]\n",
      "\n",
      "x2: [[3 5 2 4]\n",
      " [7 6 8 8]\n",
      " [1 6 7 7]]\n",
      "\n",
      "5\n",
      "9\n",
      " \n",
      "3\n",
      "7\n"
     ]
    }
   ],
   "source": [
    "# 3. BASICS OF NUMPY ARRAYS\n",
    "# A) Array Indexing: Accessing Single Elements\n",
    "# NumPy indexing is similar to Python’s standard list indexing. In a one-dimensional array, you can access the ith value (counting\n",
    "# from zero) by specifying the desired index in square brackets.\n",
    "np.random.seed(0) # seed for reproducibility\n",
    "x1 = np.random.randint(10, size = 6) # One-dimensional array\n",
    "print(f\"x1: {x1}\\n\")\n",
    "x2 = np.random.randint(10, size = (3, 4)) # Two-dimensional array\n",
    "print(f\"x2: {x2}\\n\")\n",
    "\n",
    "print(x1[0])    # To refer to a particular element\n",
    "print(x1[-1])   # To index from the end of the array\n",
    "print(\" \")\n",
    "# + In a multidimensional array, you access items using a comma-separated tuple of indices:\n",
    "print(x2[0, 0])\n",
    "print(x2[2, -1])"
   ]
  },
  {
   "cell_type": "code",
   "execution_count": 73,
   "metadata": {},
   "outputs": [
    {
     "name": "stdout",
     "output_type": "stream",
     "text": [
      "Values of the array\n",
      " [[1 2 3 4]\n",
      " [5 6 7 8]]\n"
     ]
    }
   ],
   "source": [
    "two_dim_values = np.array([[1, 2, 3, 4], [5, 6, 7, 8]])\n",
    "print(\"Values of the array\\n {0}\".format(two_dim_values))"
   ]
  },
  {
   "cell_type": "code",
   "execution_count": 74,
   "metadata": {},
   "outputs": [
    {
     "data": {
      "text/plain": [
       "8"
      ]
     },
     "execution_count": 74,
     "metadata": {},
     "output_type": "execute_result"
    }
   ],
   "source": [
    "two_dim_values.size"
   ]
  },
  {
   "cell_type": "code",
   "execution_count": 75,
   "metadata": {},
   "outputs": [
    {
     "data": {
      "text/plain": [
       "(2, 4)"
      ]
     },
     "execution_count": 75,
     "metadata": {},
     "output_type": "execute_result"
    }
   ],
   "source": [
    "two_dim_values.shape"
   ]
  },
  {
   "cell_type": "code",
   "execution_count": 76,
   "metadata": {},
   "outputs": [
    {
     "data": {
      "text/plain": [
       "array([0, 0, 0, 0, 0, 0, 0, 0, 0, 0])"
      ]
     },
     "execution_count": 76,
     "metadata": {},
     "output_type": "execute_result"
    }
   ],
   "source": [
    "np.zeros(10, dtype = int)"
   ]
  },
  {
   "cell_type": "code",
   "execution_count": 77,
   "metadata": {},
   "outputs": [
    {
     "data": {
      "text/plain": [
       "array([[0, 0, 0, 0],\n",
       "       [0, 0, 0, 0],\n",
       "       [0, 0, 0, 0]])"
      ]
     },
     "execution_count": 77,
     "metadata": {},
     "output_type": "execute_result"
    }
   ],
   "source": [
    "np.zeros((3, 4), dtype = int)"
   ]
  },
  {
   "cell_type": "code",
   "execution_count": 4,
   "metadata": {},
   "outputs": [
    {
     "data": {
      "text/plain": [
       "array([ 1,  3,  5,  7,  9, 11, 13, 15, 17, 19, 21, 23, 25, 27, 29, 31, 33,\n",
       "       35, 37, 39, 41, 43, 45, 47, 49])"
      ]
     },
     "execution_count": 4,
     "metadata": {},
     "output_type": "execute_result"
    }
   ],
   "source": [
    "np.arange(1, 50, 2)"
   ]
  },
  {
   "cell_type": "code",
   "execution_count": 79,
   "metadata": {},
   "outputs": [
    {
     "data": {
      "text/plain": [
       "array([-1.        , -0.7755102 , -0.55102041, -0.32653061, -0.10204082,\n",
       "        0.12244898,  0.34693878,  0.57142857,  0.79591837,  1.02040816,\n",
       "        1.24489796,  1.46938776,  1.69387755,  1.91836735,  2.14285714,\n",
       "        2.36734694,  2.59183673,  2.81632653,  3.04081633,  3.26530612,\n",
       "        3.48979592,  3.71428571,  3.93877551,  4.16326531,  4.3877551 ,\n",
       "        4.6122449 ,  4.83673469,  5.06122449,  5.28571429,  5.51020408,\n",
       "        5.73469388,  5.95918367,  6.18367347,  6.40816327,  6.63265306,\n",
       "        6.85714286,  7.08163265,  7.30612245,  7.53061224,  7.75510204,\n",
       "        7.97959184,  8.20408163,  8.42857143,  8.65306122,  8.87755102,\n",
       "        9.10204082,  9.32653061,  9.55102041,  9.7755102 , 10.        ])"
      ]
     },
     "execution_count": 79,
     "metadata": {},
     "output_type": "execute_result"
    }
   ],
   "source": [
    "np.linspace(-1, 10, 50)"
   ]
  },
  {
   "cell_type": "code",
   "execution_count": 80,
   "metadata": {},
   "outputs": [
    {
     "data": {
      "text/plain": [
       "array([[-0.88778575, -1.98079647, -0.34791215,  0.15634897,  1.23029068],\n",
       "       [ 1.20237985, -0.38732682, -0.30230275, -1.04855297, -1.42001794],\n",
       "       [-1.70627019,  1.9507754 , -0.50965218, -0.4380743 , -1.25279536],\n",
       "       [ 0.77749036, -1.61389785, -0.21274028, -0.89546656,  0.3869025 ],\n",
       "       [-0.51080514, -1.18063218, -0.02818223,  0.42833187,  0.06651722]])"
      ]
     },
     "execution_count": 80,
     "metadata": {},
     "output_type": "execute_result"
    }
   ],
   "source": [
    "np.random.randn(5, 5)"
   ]
  },
  {
   "cell_type": "code",
   "execution_count": 81,
   "metadata": {},
   "outputs": [
    {
     "data": {
      "text/plain": [
       "array([[1., 0., 0., 0., 0., 0., 0.],\n",
       "       [0., 1., 0., 0., 0., 0., 0.],\n",
       "       [0., 0., 1., 0., 0., 0., 0.],\n",
       "       [0., 0., 0., 1., 0., 0., 0.],\n",
       "       [0., 0., 0., 0., 1., 0., 0.],\n",
       "       [0., 0., 0., 0., 0., 1., 0.],\n",
       "       [0., 0., 0., 0., 0., 0., 1.]])"
      ]
     },
     "execution_count": 81,
     "metadata": {},
     "output_type": "execute_result"
    }
   ],
   "source": [
    "np.identity(7)"
   ]
  },
  {
   "cell_type": "code",
   "execution_count": 82,
   "metadata": {},
   "outputs": [
    {
     "data": {
      "text/plain": [
       "array([[1, 0, 0, 0, 0],\n",
       "       [0, 1, 0, 0, 0],\n",
       "       [0, 0, 1, 0, 0],\n",
       "       [0, 0, 0, 1, 0],\n",
       "       [0, 0, 0, 0, 1]])"
      ]
     },
     "execution_count": 82,
     "metadata": {},
     "output_type": "execute_result"
    }
   ],
   "source": [
    "np.eye(5, dtype = int)"
   ]
  },
  {
   "cell_type": "code",
   "execution_count": 83,
   "metadata": {},
   "outputs": [
    {
     "data": {
      "text/plain": [
       "array([9, 0, 2, 7, 2, 9])"
      ]
     },
     "execution_count": 83,
     "metadata": {},
     "output_type": "execute_result"
    }
   ],
   "source": [
    "np.random.randint(10, size = 6)"
   ]
  },
  {
   "cell_type": "code",
   "execution_count": 84,
   "metadata": {},
   "outputs": [
    {
     "data": {
      "text/plain": [
       "array([5, 0, 3, 3, 7, 9])"
      ]
     },
     "execution_count": 84,
     "metadata": {},
     "output_type": "execute_result"
    }
   ],
   "source": [
    "np.random.seed(0)\n",
    "x1 = np.random.randint(10, size = 6)\n",
    "x1"
   ]
  },
  {
   "cell_type": "code",
   "execution_count": 85,
   "metadata": {},
   "outputs": [
    {
     "data": {
      "text/plain": [
       "array([[12, 15,  0,  3,  3,  7,  9, 19],\n",
       "       [18,  4,  6, 12,  1,  6,  7, 14],\n",
       "       [17,  5, 13,  8,  9, 19, 16, 19],\n",
       "       [ 5, 15, 15,  0, 18,  3, 17, 19],\n",
       "       [19, 19, 14,  7,  0,  1,  9,  0],\n",
       "       [10,  3, 11, 18,  2,  0,  0,  4],\n",
       "       [ 5,  6,  8, 17, 15,  4,  9, 10]])"
      ]
     },
     "execution_count": 85,
     "metadata": {},
     "output_type": "execute_result"
    }
   ],
   "source": [
    "np.random.seed(0)\n",
    "x2 = np.random.randint(20, size = (7, 8))\n",
    "x2"
   ]
  },
  {
   "cell_type": "code",
   "execution_count": 86,
   "metadata": {},
   "outputs": [
    {
     "name": "stdout",
     "output_type": "stream",
     "text": [
      "5\n",
      "12\n",
      "9\n",
      "10\n"
     ]
    }
   ],
   "source": [
    "print(int(x1[0]))\n",
    "print(int(x2[0, 0]))\n",
    "print(int(x1[-1]))\n",
    "print(int(x2[-1, -1]))"
   ]
  },
  {
   "cell_type": "code",
   "execution_count": 91,
   "metadata": {},
   "outputs": [
    {
     "data": {
      "text/plain": [
       "array([[1, 2, 3],\n",
       "       [4, 5, 6],\n",
       "       [7, 8, 9]])"
      ]
     },
     "execution_count": 91,
     "metadata": {},
     "output_type": "execute_result"
    }
   ],
   "source": [
    "np.arange(1, 10).reshape(3, 3)"
   ]
  },
  {
   "cell_type": "code",
   "execution_count": 102,
   "metadata": {},
   "outputs": [
    {
     "name": "stdout",
     "output_type": "stream",
     "text": [
      "(5,)\n",
      "(1, 5)\n",
      "[[1 2 3 4 5]]\n",
      "[[1]\n",
      " [2]\n",
      " [3]\n",
      " [4]\n",
      " [5]]\n"
     ]
    }
   ],
   "source": [
    "x = np.arange(1, 6)\n",
    "print(x.shape)\n",
    "x4 = x.reshape(1, 5)\n",
    "print(x4.shape)\n",
    "\n",
    "x5 = x[np.newaxis,:]\n",
    "print(x5)\n",
    "\n",
    "x6 = x.reshape(1, 5)"
   ]
  },
  {
   "cell_type": "code",
   "execution_count": 104,
   "metadata": {},
   "outputs": [
    {
     "data": {
      "text/plain": [
       "array([[1],\n",
       "       [2],\n",
       "       [3],\n",
       "       [3],\n",
       "       [5]])"
      ]
     },
     "execution_count": 104,
     "metadata": {},
     "output_type": "execute_result"
    }
   ],
   "source": [
    "x7 = x[:, np.newaxis]\n",
    "x7[3, 0] = 3\n",
    "x7"
   ]
  },
  {
   "cell_type": "code",
   "execution_count": 18,
   "metadata": {},
   "outputs": [
    {
     "name": "stdout",
     "output_type": "stream",
     "text": [
      "[0 1 2 3 4 5 6 7 8 9]\n",
      "[0 1 2 3 4]\n",
      "[5 6 7 8 9]\n",
      "[0 2 4 6 8]\n",
      "[1 3 5 7 9]\n",
      "[9 8 7 6 5 4 3 2 1 0]\n",
      "[5 3 1]\n",
      "[ 0  1  2 12 12 12  6  7  8  9]\n"
     ]
    }
   ],
   "source": [
    "# ARRAY SLICING\n",
    "# Array slicing is used to retrieve subsets of arrays. Just as you can use square brackets to access individual array \n",
    "# elements, you can also use them to access subarrays with the slice notation, marked by the colon(:) character. To access a\n",
    "# slice of an array x, use the notation: x[start:stop:step]. If any of these are unspecified,they default is start = 0, \n",
    "# stop = size of dimension, step = 1. For example, consider the following one-dimensional array:\n",
    "\n",
    "x = np.arange(10)\n",
    "print(x)\n",
    "\n",
    "print(x[:5])    # Print first five elements\n",
    "print(x[5:])    # Print last five elements\n",
    "print(x[::2])   # Print every even element\n",
    "print(x[1::2])  # Print every odd element\n",
    "print(x[::-1])  # Print all elements in reverse order\n",
    "print(x[5::-2]) # reversed every other from index 5\n",
    "\n",
    "# If you assign a scalar value to a slice, e.g. x[5:8] = 12, the value is propagated (or broadcasted henceforth)to the entire\n",
    "#  selection as shown below:\n",
    "x[3:6] = 12\n",
    "print (x)"
   ]
  },
  {
   "cell_type": "code",
   "execution_count": 24,
   "metadata": {},
   "outputs": [
    {
     "name": "stdout",
     "output_type": "stream",
     "text": [
      "[[5 0 3 3 7]\n",
      " [9 3 5 2 4]\n",
      " [7 6 8 8 1]\n",
      " [6 7 7 8 1]]\n",
      "[[5 0 3]\n",
      " [9 3 5]]\n",
      "[[5 3 7]\n",
      " [9 5 4]\n",
      " [7 8 1]]\n",
      "[[1 8 7 7 6]\n",
      " [1 8 8 6 7]\n",
      " [4 2 5 3 9]\n",
      " [7 3 3 0 5]]\n",
      "[[1 7 6]\n",
      " [4 5 9]]\n",
      "[[5 9 7 6]\n",
      " [0 3 6 7]\n",
      " [3 5 8 7]\n",
      " [3 2 8 8]\n",
      " [7 4 1 1]]\n"
     ]
    }
   ],
   "source": [
    "# MULTIDIMENSIONAL SLICING\n",
    "# + Multidimensional slices work in the same way, with multiple slices separated by commas.\n",
    "np.random.seed(0)\n",
    "x2 = np.random.randint(10, size = (4, 5))\n",
    "print(x2)\n",
    "\n",
    "print(x2[:2, :3]) # two rows, three columns\n",
    "print(x2[:3, ::2]) # all rows, every other column\n",
    "\n",
    "# Note that subarray dimensions can be reversed together\n",
    "print(x2[::-1, ::-1])\n",
    "print(x2[::-2, ::-2])\n",
    "\n",
    "print(x2.T) # Transpose of the array"
   ]
  },
  {
   "cell_type": "code",
   "execution_count": 25,
   "metadata": {},
   "outputs": [
    {
     "name": "stdout",
     "output_type": "stream",
     "text": [
      "[5 9 7 6]\n",
      "[5 0 3 3 7]\n",
      "[5 0 3 3 7]\n"
     ]
    }
   ],
   "source": [
    "# ACCESSING ROWS AND COLUMNS\n",
    "# + One commonly needed routine is accessing single rows or columns of an array. You can do this by combining indexing and\n",
    "# slicing. With higher dimensional objects, it gives you more options as you can slice one or more axes.\n",
    "print(x2[:, 0]) # first column of x2\n",
    "print(x2[0, :]) # first row of x2\n",
    "\n",
    "# + In the case of row access, the empty slice can be omitted for a more compact syntax\n",
    "print(x2[0]) # equivalent to x2[0, :]"
   ]
  },
  {
   "cell_type": "code",
   "execution_count": 28,
   "metadata": {},
   "outputs": [
    {
     "data": {
      "text/plain": [
       "array([[[ 0,  1,  2],\n",
       "        [ 3,  4,  5],\n",
       "        [ 6,  7,  8]],\n",
       "\n",
       "       [[ 9, 10, 11],\n",
       "        [12, 13, 14],\n",
       "        [15, 16, 17]],\n",
       "\n",
       "       [[18, 19, 20],\n",
       "        [21, 22, 23],\n",
       "        [24, 25, 26]]])"
      ]
     },
     "execution_count": 28,
     "metadata": {},
     "output_type": "execute_result"
    }
   ],
   "source": [
    "x4 = np.arange(27).reshape(3, 3, 3) # 3D array\n",
    "x4\n",
    "# x4[0]"
   ]
  },
  {
   "cell_type": "code",
   "execution_count": 31,
   "metadata": {},
   "outputs": [
    {
     "data": {
      "text/plain": [
       "array([82.85956999, 84.58174277, 86.20914455, 81.51388354, 88.04845363,\n",
       "       88.72715064, 87.58275584, 87.60139254, 86.83640565, 84.68239906,\n",
       "       83.07187328, 81.01844236, 85.17946145, 85.22970776, 83.82836964,\n",
       "       85.59754408, 85.4445198 , 85.87036594, 84.9085038 , 85.09979683,\n",
       "       83.12893909, 85.5747753 , 85.72085453, 85.81629624, 81.11856865,\n",
       "       87.88967142, 85.38572173, 84.15827036, 88.48050692, 84.27182645,\n",
       "       87.68790884, 83.36355808, 85.16541987, 82.41788309, 83.67779154,\n",
       "       82.63961797, 85.39528528, 85.82779995, 87.39464396, 88.76670772,\n",
       "       86.42844764, 89.56866671, 88.12820516, 86.22220742, 83.24527336,\n",
       "       81.75782501, 83.83665401, 83.92433209, 81.88795264, 84.89107031,\n",
       "       81.37744242, 83.73764956, 83.14368163, 87.98144383, 85.39099867,\n",
       "       84.05679133, 88.6247093 , 80.41172504, 86.30241869, 82.7390071 ,\n",
       "       83.44530669, 87.23187691, 87.67890603, 81.4651327 , 85.84882492,\n",
       "       87.17861809, 84.23162864, 86.26440283, 83.9006882 , 86.04225148,\n",
       "       85.2166991 , 85.52333695, 83.17048934, 86.71647557, 85.18866858,\n",
       "       82.02819228, 81.19883148, 82.72484161, 81.47592223, 84.42275356,\n",
       "       87.09596445, 85.49991508, 85.09380892, 82.93551393, 85.80637136,\n",
       "       83.6318815 , 87.52464437, 80.98888682, 84.33593921, 84.40779919,\n",
       "       80.56327849, 84.63299424, 85.78461611, 85.48326961, 85.20787182,\n",
       "       83.34085763, 85.98551878, 85.18022558, 83.00486492, 83.39992357])"
      ]
     },
     "execution_count": 31,
     "metadata": {},
     "output_type": "execute_result"
    }
   ],
   "source": [
    "arr = np.random.normal(85, 2, 100)\n",
    "arr"
   ]
  },
  {
   "cell_type": "code",
   "execution_count": 32,
   "metadata": {},
   "outputs": [
    {
     "data": {
      "text/plain": [
       "(array([2., 2., 2., 4., 2., 1., 1., 3., 6., 6., 3., 5., 4., 5., 2., 9., 9.,\n",
       "        7., 3., 4., 1., 2., 3., 5., 2., 2., 2., 2., 0., 1.]),\n",
       " array([80.41172504, 80.71695643, 81.02218782, 81.32741921, 81.6326506 ,\n",
       "        81.93788199, 82.24311338, 82.54834476, 82.85357615, 83.15880754,\n",
       "        83.46403893, 83.76927032, 84.07450171, 84.3797331 , 84.68496449,\n",
       "        84.99019588, 85.29542726, 85.60065865, 85.90589004, 86.21112143,\n",
       "        86.51635282, 86.82158421, 87.1268156 , 87.43204699, 87.73727838,\n",
       "        88.04250976, 88.34774115, 88.65297254, 88.95820393, 89.26343532,\n",
       "        89.56866671]),\n",
       " <BarContainer object of 30 artists>)"
      ]
     },
     "execution_count": 32,
     "metadata": {},
     "output_type": "execute_result"
    },
    {
     "data": {
      "image/png": "[encoded data removed]",
      "text/plain": [
       "<Figure size 640x480 with 1 Axes>"
      ]
     },
     "metadata": {},
     "output_type": "display_data"
    }
   ],
   "source": [
    "import matplotlib.pyplot as plt\n",
    "plt.hist(arr, bins = 30)"
   ]
  }
 ],
 "metadata": {
  "kernelspec": {
   "display_name": "Python 3",
   "language": "python",
   "name": "python3"
  },
  "language_info": {
   "codemirror_mode": {
    "name": "ipython",
    "version": 3
   },
   "file_extension": ".py",
   "mimetype": "text/x-python",
   "name": "python",
   "nbconvert_exporter": "python",
   "pygments_lexer": "ipython3",
   "version": "3.11.4"
  }
 },
 "nbformat": 4,
 "nbformat_minor": 2
}

{
 "cells": [
  {
   "cell_type": "markdown",
   "metadata": {},
   "source": [
    "1. ONE DIMENSIONAL ARRAYS WITH NUMPY\n",
    "+ Numpy is a useful library for array creation and manipulation in python. It can be used for both one-dimensional and multi-dimensional arrays."
   ]
  },
  {
   "cell_type": "code",
   "execution_count": 1,
   "metadata": {},
   "outputs": [],
   "source": [
    "import numpy as np  # Imports the numpy library"
   ]
  },
  {
   "cell_type": "markdown",
   "metadata": {},
   "source": [
    "+ To create a simple 1D array from scratch, you can just explicitly define the arrays elements using numpy"
   ]
  },
  {
   "cell_type": "code",
   "execution_count": 2,
   "metadata": {},
   "outputs": [
    {
     "data": {
      "text/plain": [
       "array([1, 2, 3, 4, 5, 6])"
      ]
     },
     "execution_count": 2,
     "metadata": {},
     "output_type": "execute_result"
    }
   ],
   "source": [
    "arr = np.array([1, 2, 3, 4, 5, 6])\n",
    "arr"
   ]
  },
  {
   "cell_type": "markdown",
   "metadata": {},
   "source": [
    "+ Arrays have both size and shape. Shape refers to how the array is arranged while size refers to the number of elements in the array."
   ]
  },
  {
   "cell_type": "code",
   "execution_count": 3,
   "metadata": {},
   "outputs": [
    {
     "data": {
      "text/plain": [
       "(6,)"
      ]
     },
     "execution_count": 3,
     "metadata": {},
     "output_type": "execute_result"
    }
   ],
   "source": [
    "arr.shape   # THis will return (6, ) which means the array contains 6 rows and 1 column"
   ]
  },
  {
   "cell_type": "code",
   "execution_count": 4,
   "metadata": {},
   "outputs": [
    {
     "data": {
      "text/plain": [
       "6"
      ]
     },
     "execution_count": 4,
     "metadata": {},
     "output_type": "execute_result"
    }
   ],
   "source": [
    "arr.size"
   ]
  },
  {
   "cell_type": "markdown",
   "metadata": {},
   "source": [
    "+ There are different types of arrays and therefore different ways of making them from scratch. One such array is a zeros array. It is created with the number of elements it should have as well as their data type."
   ]
  },
  {
   "cell_type": "code",
   "execution_count": 8,
   "metadata": {},
   "outputs": [
    {
     "data": {
      "text/plain": [
       "array([0, 0, 0, 0, 0, 0, 0, 0, 0, 0, 0, 0])"
      ]
     },
     "execution_count": 8,
     "metadata": {},
     "output_type": "execute_result"
    }
   ],
   "source": [
    "arr = np.zeros(12, dtype = int)\n",
    "# arr = np.zeros(5, dtype = float)\n",
    "# arr = np.zeros(7, dtype = string)\n",
    "arr"
   ]
  },
  {
   "cell_type": "markdown",
   "metadata": {},
   "source": [
    "+ The \"arange\" function is also used to create arrays according to a linear arrangement. It is created by defining the starting element, the final element and the step size between elements."
   ]
  },
  {
   "cell_type": "code",
   "execution_count": 28,
   "metadata": {},
   "outputs": [
    {
     "data": {
      "text/plain": [
       "array([0, 1, 2, 3, 4, 5, 6])"
      ]
     },
     "execution_count": 28,
     "metadata": {},
     "output_type": "execute_result"
    }
   ],
   "source": [
    "# arr = np.arange(3, 12, 3)\n",
    "# arr = np.arange(0, 34, 7)\n",
    "# arr = np.arange(5, 30, 2)\n",
    "arr = np.arange(7)\n",
    "arr"
   ]
  },
  {
   "cell_type": "markdown",
   "metadata": {},
   "source": [
    "+ Another useful array creation method is \"random.randint\". The function has two parameters: the limit for the intended array's values and its size.\n",
    "+ It is frequently used with \"random.seed(0)\" to retain values for reproduction"
   ]
  },
  {
   "cell_type": "code",
   "execution_count": 21,
   "metadata": {},
   "outputs": [
    {
     "data": {
      "text/plain": [
       "array([0, 1, 0, 1, 1, 2, 0, 2, 0, 0, 0, 2])"
      ]
     },
     "execution_count": 21,
     "metadata": {},
     "output_type": "execute_result"
    }
   ],
   "source": [
    "np.random.seed(0)\n",
    "# arr = np.random.randint(12, size = 4)\n",
    "# arr = np.random.randint(15, size = 5)\n",
    "arr = np.random.randint(3, size = 12)\n",
    "arr"
   ]
  },
  {
   "cell_type": "markdown",
   "metadata": {},
   "source": [
    "+ Array indexing is the primary method of accessing array elements. It is done by referring to the index of the required element."
   ]
  },
  {
   "cell_type": "code",
   "execution_count": 27,
   "metadata": {},
   "outputs": [
    {
     "data": {
      "text/plain": [
       "9"
      ]
     },
     "execution_count": 27,
     "metadata": {},
     "output_type": "execute_result"
    }
   ],
   "source": [
    "x = np.arange(0, 10, 3) # -> array([0, 3, 6, 9])\n",
    "# int(x[0])   # -> 0\n",
    "int(x[3])   # -> 9"
   ]
  },
  {
   "cell_type": "markdown",
   "metadata": {},
   "source": [
    "+ Within the same vein of accessing array elements there is array slicing. This is essentially obtaining subsets of arrays according to three aramenters: the starting index, ending index and step size."
   ]
  },
  {
   "cell_type": "code",
   "execution_count": 61,
   "metadata": {},
   "outputs": [
    {
     "data": {
      "text/plain": [
       "array([ 0, 15,  0,  0,  0, 11,  3,  7,  9,  3])"
      ]
     },
     "execution_count": 61,
     "metadata": {},
     "output_type": "execute_result"
    }
   ],
   "source": [
    "np.random.seed(0)\n",
    "x = np.random.randint(16, size = 10) # -> array([12, 15,  5,  0,  3, 11,  3,  7,  9,  3])\n",
    "x[:5]   # Returns the first five elements -> array([12, 15,  5,  0,  3])\n",
    "x[5:]   # Returns the last five elements -> array([11,  3,  7,  9,  3])\n",
    "x[::2]  # Returns every other even element -> array([12,  5,  3,  3,  9])\n",
    "x[1::2] # Returns every other odd element -> array([15,  0, 11,  7,  3])\n",
    "\n",
    "# + When the step value is negative, the defaults for start and stop are swapped. This becomes a convenient way to reverse an array.\n",
    "x[::-1] # Reverses the array -> array([ 3,  9,  7,  3, 11,  3,  0,  5, 15, 12])\n",
    "x[4::-2] # Returns every other element starting from the 4th index -> array([ 3,  5, 12])\n",
    "\n",
    "# + Assigning values to a slice is used to propagate that value across the slice.\n",
    "# x[:5] = 3   # Changes the array's first five elements to 3 -> array([ 3,  3,  3,  3,  3, 11,  3,  7,  9,  3])\n",
    "# x[5:] = 19  # Changes the array's last five elements to 19 -> array([12, 15,  5,  0,  3, 19, 19, 19, 19, 19])\n",
    "# x[::2] = 5  # Changes every even element to 5 -> array([ 5, 15,  5,  0,  5, 11,  5,  7,  5,  3])\n",
    "# x[1::2] = 2 # Changes every odd element to 2 -> array([12,  2,  5,  2,  3,  2,  3,  2,  9,  2])\n",
    "# x[::-1] = 0 # Reverses the array and sets all values to 0 -> array([0, 0, 0, 0, 0, 0, 0, 0, 0, 0])\n",
    "x[4::-2] = 0 # Changes every other element starting from the 4th index to 0 -> array([0, 15, 0, 0, 3, 11, 3, 7, 9, 3])\n",
    "x"
   ]
  }
 ],
 "metadata": {
  "kernelspec": {
   "display_name": "Python 3",
   "language": "python",
   "name": "python3"
  },
  "language_info": {
   "codemirror_mode": {
    "name": "ipython",
    "version": 3
   },
   "file_extension": ".py",
   "mimetype": "text/x-python",
   "name": "python",
   "nbconvert_exporter": "python",
   "pygments_lexer": "ipython3",
   "version": "3.11.4"
  }
 },
 "nbformat": 4,
 "nbformat_minor": 2
}

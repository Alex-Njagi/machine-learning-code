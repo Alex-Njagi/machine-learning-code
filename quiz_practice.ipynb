{
 "cells": [
  {
   "cell_type": "code",
   "execution_count": 5,
   "metadata": {},
   "outputs": [
    {
     "data": {
      "text/plain": [
       "array([[ 10,  20,  30,  40],\n",
       "       [ 50,  60,  70,  80],\n",
       "       [ 90, 100, 110, 120]])"
      ]
     },
     "execution_count": 5,
     "metadata": {},
     "output_type": "execute_result"
    }
   ],
   "source": [
    "# Question A(i)\n",
    "# Create a 3x4 NumPy array named arr with the following values:\n",
    "# [[10, 20, 30, 40],\n",
    "#  [50, 60, 70, 80],\n",
    "#  [90, 100, 110, 120]]\n",
    "\n",
    "import numpy as np\n",
    "x = np.arange(10, 130, 10).reshape(3, 4)\n",
    "x"
   ]
  },
  {
   "cell_type": "code",
   "execution_count": 14,
   "metadata": {},
   "outputs": [
    {
     "data": {
      "text/plain": [
       "array([[ 50,  60,  70],\n",
       "       [ 90, 100, 110]])"
      ]
     },
     "execution_count": 14,
     "metadata": {},
     "output_type": "execute_result"
    }
   ],
   "source": [
    "# Question A(ii)\n",
    "# From arr, extract and print the subarray containing the last two rows and the first three columns.\n",
    "x[1:, :3]"
   ]
  },
  {
   "cell_type": "code",
   "execution_count": 17,
   "metadata": {},
   "outputs": [
    {
     "data": {
      "text/plain": [
       "array([[ 10,  30],\n",
       "       [ 50,  70],\n",
       "       [ 90, 110]])"
      ]
     },
     "execution_count": 17,
     "metadata": {},
     "output_type": "execute_result"
    }
   ],
   "source": [
    "# Question A(iii)\n",
    "# From arr, extract and print every second column for all rows.\n",
    "x[:, ::2]"
   ]
  },
  {
   "cell_type": "code",
   "execution_count": 18,
   "metadata": {},
   "outputs": [
    {
     "data": {
      "text/plain": [
       "array([[120, 110, 100,  90],\n",
       "       [ 80,  70,  60,  50],\n",
       "       [ 40,  30,  20,  10]])"
      ]
     },
     "execution_count": 18,
     "metadata": {},
     "output_type": "execute_result"
    }
   ],
   "source": [
    "# Question A(iv)\n",
    "# Reverse both the rows and columns of arr and print the resulting array.\n",
    "x[::-1, ::-1]"
   ]
  },
  {
   "cell_type": "code",
   "execution_count": 32,
   "metadata": {},
   "outputs": [
    {
     "name": "stdout",
     "output_type": "stream",
     "text": [
      "R2 score: 1.0000\n"
     ]
    }
   ],
   "source": [
    "# Question B(a)\n",
    "# You’re given the following dataset showing digital marketing budget allocations and the corresponding website traffic:\n",
    "data = {\n",
    "    'SEO': [100, 200, 150, 300, 250],\n",
    "    'Content': [20, 40, 25, 35, 30],\n",
    "    'SocialMedia': [10, 20, 15, 25, 18],\n",
    "    'Traffic': [1500, 3000, 2200, 4300, 3600]\n",
    "}\n",
    "\n",
    "# Perform the following steps:\n",
    "# Create a DataFrame\n",
    "import pandas as pd\n",
    "import numpy as np\n",
    "df = pd.DataFrame(data)\n",
    "df\n",
    "\n",
    "# Define the features and target.\n",
    "X = df[['SEO', 'Content', 'SocialMedia']]\n",
    "y = df['Traffic']\n",
    "X\n",
    "y\n",
    "\n",
    "# Split the dataset into training and test sets with test_size=2.\n",
    "from sklearn.model_selection import train_test_split\n",
    "X_train, X_test, y_Train, y_test = train_test_split(X, y, test_size = 2, random_state = 42)\n",
    "\n",
    "# Train a LinearRegression model.\n",
    "from sklearn.linear_model import LinearRegression\n",
    "model = LinearRegression()\n",
    "model.fit(X, y)\n",
    "\n",
    "# Predict traffic on the test set.\n",
    "y_pred = model.predict(X_test)\n",
    "y_pred\n",
    "\n",
    "# Print the R² score of the model on the test set.\n",
    "from sklearn.metrics import r2_score\n",
    "r2 = r2_score(y_pred, y_test)\n",
    "print(f\"R2 score: {r2:.4f}\")"
   ]
  },
  {
   "cell_type": "code",
   "execution_count": 35,
   "metadata": {},
   "outputs": [
    {
     "name": "stdout",
     "output_type": "stream",
     "text": [
      "Predicted traffic: 2631.42\n"
     ]
    },
    {
     "name": "stderr",
     "output_type": "stream",
     "text": [
      "/home/linuxbrew/.linuxbrew/Cellar/python@3.11/3.11.4_1/lib/python3.11/site-packages/sklearn/utils/validation.py:2739: UserWarning: X does not have valid feature names, but LinearRegression was fitted with feature names\n",
      "  warnings.warn(\n"
     ]
    }
   ],
   "source": [
    "# Question B(b)\n",
    "# Using the model you trained in B(a), predict the website traffic for a new digital campaign with the following values:\n",
    "\n",
    "# SEO: 180\n",
    "\n",
    "# Content: 28\n",
    "\n",
    "# SocialMedia: 17\n",
    "\n",
    "# Print the predicted traffic value rounded to 2 decimal places.\n",
    "\n",
    "new_campaign = [180, 28, 17]\n",
    "predicted_traffic = model.predict([new_campaign])\n",
    "print(f\"Predicted traffic: {predicted_traffic[0]:.2f}\")"
   ]
  },
  {
   "cell_type": "code",
   "execution_count": 5,
   "metadata": {},
   "outputs": [
    {
     "name": "stdout",
     "output_type": "stream",
     "text": [
      "Model accuracy: 0.8571\n",
      "Test predictions: [1 1 1 1 0 1 0]\n"
     ]
    }
   ],
   "source": [
    "# K-Nearest Neighbors Classifier Example\n",
    "import mglearn\n",
    "from sklearn.neighbors import  KNeighborsClassifier\n",
    "from sklearn.model_selection import train_test_split\n",
    "from sklearn.metrics import accuracy_score\n",
    "\n",
    "# Load the dataset\n",
    "X, y = mglearn.datasets.make_forge()\n",
    "# Split between the training and test sets\n",
    "X_train, X_test, y_train, y_test = train_test_split(X, y, random_state = 42)\n",
    "\n",
    "# Define and train the model\n",
    "model = KNeighborsClassifier(n_neighbors = 3)\n",
    "model.fit(X_train, y_train)\n",
    "\n",
    "# Predict from the test set\n",
    "y_pred = model.predict(X_test)\n",
    "\n",
    "# Computing model accuracy\n",
    "accuracy = accuracy_score(y_test, y_pred)\n",
    "\n",
    "# Output stats\n",
    "print(f\"Model accuracy: {accuracy:.4f}\")\n",
    "print(f\"Test predictions: {y_pred}\")"
   ]
  },
  {
   "cell_type": "code",
   "execution_count": 9,
   "metadata": {},
   "outputs": [
    {
     "name": "stdout",
     "output_type": "stream",
     "text": [
      "Model accuracy: 0.2438\n",
      "Test predictions: [ 0.18836016  0.18836016 -2.07693788 -1.75751624 -1.89415682  1.44592491\n",
      " -0.85177421 -0.35898987 -0.65851598 -0.8301424 ]\n"
     ]
    }
   ],
   "source": [
    "# K-Nearest Neighbors Regressor Example\n",
    "import mglearn\n",
    "from sklearn.neighbors import KNeighborsRegressor\n",
    "from sklearn.metrics import accuracy_score\n",
    "from sklearn.model_selection import train_test_split\n",
    "\n",
    "# Creating the dataset\n",
    "X, y = mglearn.datasets.make_wave(n_samples = 40)\n",
    "\n",
    "# Split between training and testing sets\n",
    "X_train, X_test, y_train, y_test = train_test_split(X, y, random_state = 42)\n",
    "\n",
    "# Define and fit the model\n",
    "model = KNeighborsRegressor(n_neighbors = 3)\n",
    "model.fit(X_train, y_train)\n",
    "\n",
    "# Define predictions\n",
    "y_pred = model.predict(X_test)\n",
    "\n",
    "# Compute model stats\n",
    "accuracy = model.score(X_test, y_test)\n",
    "\n",
    "# Output stats\n",
    "print(f\"Model accuracy: {accuracy:.4f}\")\n",
    "print(f\"Test predictions: {y_pred}\")"
   ]
  },
  {
   "cell_type": "code",
   "execution_count": 16,
   "metadata": {},
   "outputs": [
    {
     "name": "stdout",
     "output_type": "stream",
     "text": [
      "Model coefficient: [0.47954524]\n",
      "Model intercept: -0.09847983994403892\n",
      "Training set accuracy: 0.6527\n",
      "Testing set accuracy: 0.7735\n",
      "Model accuracy: 0.6843\n"
     ]
    },
    {
     "data": {
      "image/png": "[encoded data removed]",
      "text/plain": [
       "<Figure size 640x480 with 1 Axes>"
      ]
     },
     "metadata": {},
     "output_type": "display_data"
    }
   ],
   "source": [
    "# Linear Regression Models\n",
    "# Imoprting libraries\n",
    "import mglearn\n",
    "from sklearn.linear_model import LinearRegression\n",
    "from sklearn.model_selection import train_test_split\n",
    "import matplotlib.pyplot as plt\n",
    "\n",
    "# Importing the dataset\n",
    "X, y = mglearn.datasets.make_wave(n_samples = 40)\n",
    "\n",
    "# Split between training and testing sets\n",
    "X_train, X_test, y_train, y_test = train_test_split(X, y, random_state = 42)\n",
    "\n",
    "# Define and fit the model\n",
    "model = LinearRegression()\n",
    "model.fit(X_train, y_train)\n",
    "\n",
    "# Define predictions\n",
    "y_pred = model.predict(X_test)\n",
    "\n",
    "co_ef = model.coef_\n",
    "intercept = model.intercept_\n",
    "\n",
    "# Output stats\n",
    "print(f\"Model coefficient: {co_ef}\")\n",
    "print(f\"Model intercept: {intercept}\")\n",
    "\n",
    "# Compute model accuracy\n",
    "print(f\"Training set accuracy: {model.score(X_train, y_train):.4f}\")\n",
    "print(f\"Testing set accuracy: {model.score(X_test, y_test):.4f}\")\n",
    "print(f\"Model accuracy: {model.score(X, y):.4f}\")\n",
    "\n",
    "# Plotting the model\n",
    "plt.scatter(X_test, y_test, label = \"Test data\")\n",
    "plt.scatter(X_train, y_train, label = \"Training data\")\n",
    "plt.plot(X_test, y_pred, color = \"red\", label = \"Predictions\")\n",
    "plt.legend()\n",
    "plt.xlabel(\"Feature\")\n",
    "plt.ylabel(\"Target\")\n",
    "plt.title(\"Linear Regression Model\")\n",
    "plt.show()"
   ]
  }
 ],
 "metadata": {
  "kernelspec": {
   "display_name": "Python 3",
   "language": "python",
   "name": "python3"
  },
  "language_info": {
   "codemirror_mode": {
    "name": "ipython",
    "version": 3
   },
   "file_extension": ".py",
   "mimetype": "text/x-python",
   "name": "python",
   "nbconvert_exporter": "python",
   "pygments_lexer": "ipython3",
   "version": "3.11.4"
  }
 },
 "nbformat": 4,
 "nbformat_minor": 2
}
